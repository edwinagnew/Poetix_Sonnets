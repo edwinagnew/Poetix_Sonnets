{
 "cells": [
  {
   "cell_type": "code",
   "execution_count": 1,
   "id": "b0a3a4cf",
   "metadata": {},
   "outputs": [
    {
     "name": "stdout",
     "output_type": "stream",
     "text": [
      "loaded fasttext from pickle\n",
      "loaded glove from pickle\n",
      "loaded fine_tuning/twice_retrained\n"
     ]
    }
   ],
   "source": [
    "import scenery\n",
    "import gpt_revised\n",
    "import pandas as pd\n",
    "\n",
    "filename = \"poems/poems_with_retrained.txt\"\n",
    "sc = scenery.Scenery_Gen()\n",
    "sc.gpt = gpt_revised.gpt_gen(sonnet_object=sc, model=\"custom fine_tuning/twice_retrained\")\n",
    "f = open(filename)\n",
    "lines = [line.strip() for line in f.readlines()]\n",
    "scores = [float(sc.gpt.score_line(line)) for line in lines]\n",
    "score_dict = {\"lines\": lines, \"scores\": scores}\n",
    "df = pd.DataFrame.from_dict(score_dict)"
   ]
  },
  {
   "cell_type": "code",
   "execution_count": 2,
   "id": "bced6e8c",
   "metadata": {},
   "outputs": [
    {
     "name": "stdout",
     "output_type": "stream",
     "text": [
      "loaded gpt2\n"
     ]
    }
   ],
   "source": [
    "sc.gpt = gpt_revised.gpt_gen(sonnet_object=sc)\n",
    "scores2 = [float(sc.gpt.score_line(line)) for line in lines]\n",
    "score_dict2 = {\"lines\": lines, \"scores\": scores2}\n",
    "df2 = pd.DataFrame.from_dict(score_dict2)"
   ]
  },
  {
   "cell_type": "code",
   "execution_count": 3,
   "id": "c00ee65e",
   "metadata": {},
   "outputs": [
    {
     "data": {
      "text/html": [
       "<div>\n",
       "<style scoped>\n",
       "    .dataframe tbody tr th:only-of-type {\n",
       "        vertical-align: middle;\n",
       "    }\n",
       "\n",
       "    .dataframe tbody tr th {\n",
       "        vertical-align: top;\n",
       "    }\n",
       "\n",
       "    .dataframe thead th {\n",
       "        text-align: right;\n",
       "    }\n",
       "</style>\n",
       "<table border=\"1\" class=\"dataframe\">\n",
       "  <thead>\n",
       "    <tr style=\"text-align: right;\">\n",
       "      <th></th>\n",
       "      <th>lines</th>\n",
       "      <th>scores</th>\n",
       "    </tr>\n",
       "  </thead>\n",
       "  <tbody>\n",
       "    <tr>\n",
       "      <th>0</th>\n",
       "      <td>If you could summon this dark sea of pain,</td>\n",
       "      <td>5.105801</td>\n",
       "    </tr>\n",
       "    <tr>\n",
       "      <th>1</th>\n",
       "      <td>the giddy grief will be your wisest life.</td>\n",
       "      <td>4.944522</td>\n",
       "    </tr>\n",
       "    <tr>\n",
       "      <th>2</th>\n",
       "      <td>You blowed an all clear line and wistful brain.</td>\n",
       "      <td>6.159831</td>\n",
       "    </tr>\n",
       "    <tr>\n",
       "      <th>3</th>\n",
       "      <td>You saw an all gray man and ailing wife.</td>\n",
       "      <td>5.359520</td>\n",
       "    </tr>\n",
       "    <tr>\n",
       "      <th>4</th>\n",
       "      <td>The joy was in the flood and the decay</td>\n",
       "      <td>5.092430</td>\n",
       "    </tr>\n",
       "    <tr>\n",
       "      <th>...</th>\n",
       "      <td>...</td>\n",
       "      <td>...</td>\n",
       "    </tr>\n",
       "    <tr>\n",
       "      <th>219</th>\n",
       "      <td>within my wont mood, I maintain the truth</td>\n",
       "      <td>6.722083</td>\n",
       "    </tr>\n",
       "    <tr>\n",
       "      <th>220</th>\n",
       "      <td>i say, beseech the wise identity</td>\n",
       "      <td>5.689716</td>\n",
       "    </tr>\n",
       "    <tr>\n",
       "      <th>221</th>\n",
       "      <td>and thus paint to the unaccustomed tooth.</td>\n",
       "      <td>5.885252</td>\n",
       "    </tr>\n",
       "    <tr>\n",
       "      <th>222</th>\n",
       "      <td>So small a size of ones, yet I see still;</td>\n",
       "      <td>6.011828</td>\n",
       "    </tr>\n",
       "    <tr>\n",
       "      <th>223</th>\n",
       "      <td>and think my heart thaw when I wiggle ill.</td>\n",
       "      <td>5.802034</td>\n",
       "    </tr>\n",
       "  </tbody>\n",
       "</table>\n",
       "<p>224 rows × 2 columns</p>\n",
       "</div>"
      ],
      "text/plain": [
       "                                               lines    scores\n",
       "0         If you could summon this dark sea of pain,  5.105801\n",
       "1          the giddy grief will be your wisest life.  4.944522\n",
       "2    You blowed an all clear line and wistful brain.  6.159831\n",
       "3           You saw an all gray man and ailing wife.  5.359520\n",
       "4             The joy was in the flood and the decay  5.092430\n",
       "..                                               ...       ...\n",
       "219        within my wont mood, I maintain the truth  6.722083\n",
       "220                 i say, beseech the wise identity  5.689716\n",
       "221        and thus paint to the unaccustomed tooth.  5.885252\n",
       "222        So small a size of ones, yet I see still;  6.011828\n",
       "223       and think my heart thaw when I wiggle ill.  5.802034\n",
       "\n",
       "[224 rows x 2 columns]"
      ]
     },
     "execution_count": 3,
     "metadata": {},
     "output_type": "execute_result"
    }
   ],
   "source": [
    "df2"
   ]
  },
  {
   "cell_type": "code",
   "execution_count": 4,
   "id": "8fd722c7",
   "metadata": {},
   "outputs": [
    {
     "data": {
      "text/html": [
       "<div>\n",
       "<style scoped>\n",
       "    .dataframe tbody tr th:only-of-type {\n",
       "        vertical-align: middle;\n",
       "    }\n",
       "\n",
       "    .dataframe tbody tr th {\n",
       "        vertical-align: top;\n",
       "    }\n",
       "\n",
       "    .dataframe thead th {\n",
       "        text-align: right;\n",
       "    }\n",
       "</style>\n",
       "<table border=\"1\" class=\"dataframe\">\n",
       "  <thead>\n",
       "    <tr style=\"text-align: right;\">\n",
       "      <th></th>\n",
       "      <th>lines</th>\n",
       "      <th>scores</th>\n",
       "    </tr>\n",
       "  </thead>\n",
       "  <tbody>\n",
       "    <tr>\n",
       "      <th>0</th>\n",
       "      <td>If you could summon this dark sea of pain,</td>\n",
       "      <td>4.347126</td>\n",
       "    </tr>\n",
       "    <tr>\n",
       "      <th>1</th>\n",
       "      <td>the giddy grief will be your wisest life.</td>\n",
       "      <td>4.568396</td>\n",
       "    </tr>\n",
       "    <tr>\n",
       "      <th>2</th>\n",
       "      <td>You blowed an all clear line and wistful brain.</td>\n",
       "      <td>5.724245</td>\n",
       "    </tr>\n",
       "    <tr>\n",
       "      <th>3</th>\n",
       "      <td>You saw an all gray man and ailing wife.</td>\n",
       "      <td>5.378021</td>\n",
       "    </tr>\n",
       "    <tr>\n",
       "      <th>4</th>\n",
       "      <td>The joy was in the flood and the decay</td>\n",
       "      <td>4.618481</td>\n",
       "    </tr>\n",
       "    <tr>\n",
       "      <th>...</th>\n",
       "      <td>...</td>\n",
       "      <td>...</td>\n",
       "    </tr>\n",
       "    <tr>\n",
       "      <th>219</th>\n",
       "      <td>within my wont mood, I maintain the truth</td>\n",
       "      <td>5.975215</td>\n",
       "    </tr>\n",
       "    <tr>\n",
       "      <th>220</th>\n",
       "      <td>i say, beseech the wise identity</td>\n",
       "      <td>5.247855</td>\n",
       "    </tr>\n",
       "    <tr>\n",
       "      <th>221</th>\n",
       "      <td>and thus paint to the unaccustomed tooth.</td>\n",
       "      <td>5.670243</td>\n",
       "    </tr>\n",
       "    <tr>\n",
       "      <th>222</th>\n",
       "      <td>So small a size of ones, yet I see still;</td>\n",
       "      <td>4.949724</td>\n",
       "    </tr>\n",
       "    <tr>\n",
       "      <th>223</th>\n",
       "      <td>and think my heart thaw when I wiggle ill.</td>\n",
       "      <td>5.663544</td>\n",
       "    </tr>\n",
       "  </tbody>\n",
       "</table>\n",
       "<p>224 rows × 2 columns</p>\n",
       "</div>"
      ],
      "text/plain": [
       "                                               lines    scores\n",
       "0         If you could summon this dark sea of pain,  4.347126\n",
       "1          the giddy grief will be your wisest life.  4.568396\n",
       "2    You blowed an all clear line and wistful brain.  5.724245\n",
       "3           You saw an all gray man and ailing wife.  5.378021\n",
       "4             The joy was in the flood and the decay  4.618481\n",
       "..                                               ...       ...\n",
       "219        within my wont mood, I maintain the truth  5.975215\n",
       "220                 i say, beseech the wise identity  5.247855\n",
       "221        and thus paint to the unaccustomed tooth.  5.670243\n",
       "222        So small a size of ones, yet I see still;  4.949724\n",
       "223       and think my heart thaw when I wiggle ill.  5.663544\n",
       "\n",
       "[224 rows x 2 columns]"
      ]
     },
     "execution_count": 4,
     "metadata": {},
     "output_type": "execute_result"
    }
   ],
   "source": [
    "df"
   ]
  },
  {
   "cell_type": "code",
   "execution_count": 13,
   "id": "7db672ce",
   "metadata": {},
   "outputs": [
    {
     "data": {
      "text/plain": [
       "<matplotlib.legend.Legend at 0x7f998be35a10>"
      ]
     },
     "execution_count": 13,
     "metadata": {},
     "output_type": "execute_result"
    },
    {
     "data": {
      "image/png": "[encoded data removed]",
      "text/plain": [
       "<Figure size 432x288 with 1 Axes>"
      ]
     },
     "metadata": {
      "needs_background": "light"
     },
     "output_type": "display_data"
    }
   ],
   "source": [
    "import matplotlib.pyplot as plt\n",
    "import numpy as np\n",
    "plt.scatter(df[\"scores\"], df2[\"scores\"])\n",
    "plt.title(\"new vs old scores on same lines of new poetry\")\n",
    "plt.xlabel(\"new scores\")\n",
    "plt.ylabel(\"old scores\")\n",
    "m, b = np. polyfit(df[\"scores\"], df2[\"scores\"], 1)\n",
    "plt.plot(range(4, 10), m*np.arange(4, 10) + b, label=\"line of best fit\")\n",
    "plt.legend()"
   ]
  },
  {
   "cell_type": "code",
   "execution_count": null,
   "id": "4c65cc27",
   "metadata": {},
   "outputs": [],
   "source": []
  }
 ],
 "metadata": {
  "kernelspec": {
   "display_name": "Python 3 (ipykernel)",
   "language": "python",
   "name": "python3"
  },
  "language_info": {
   "codemirror_mode": {
    "name": "ipython",
    "version": 3
   },
   "file_extension": ".py",
   "mimetype": "text/x-python",
   "name": "python",
   "nbconvert_exporter": "python",
   "pygments_lexer": "ipython3",
   "version": "3.7.6"
  }
 },
 "nbformat": 4,
 "nbformat_minor": 5
}
